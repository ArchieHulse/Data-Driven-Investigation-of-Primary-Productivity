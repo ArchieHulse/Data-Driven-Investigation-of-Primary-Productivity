{
 "cells": [
  {
   "attachments": {},
   "cell_type": "markdown",
   "id": "threaded-asbestos",
   "metadata": {},
   "source": [
    "# PROJECT 2"
   ]
  },
  {
   "attachments": {},
   "cell_type": "markdown",
   "id": "7c26bd66",
   "metadata": {},
   "source": [
    "**Hypothesis:**\n",
    "- to show the positive correlation between Sea Surface Temperature (SST) and Ocean Net Primary Production in the North Atlantic coastal water column."
   ]
  },
  {
   "cell_type": "code",
   "execution_count": 17,
   "id": "fdf24a0d",
   "metadata": {},
   "outputs": [],
   "source": [
    "import json\n",
    "import requests\n",
    "import pandas as pd\n",
    "import numpy as np\n",
    "import seaborn as sns\n",
    "import matplotlib.pyplot as plt\n",
    "import matplotlib as mpl\n",
    "from cycler import cycler\n",
    "import hvplot.pandas\n",
    "import lxml.html\n"
   ]
  },
  {
   "attachments": {},
   "cell_type": "markdown",
   "id": "b68e807c",
   "metadata": {},
   "source": [
    "**Data:**\n",
    "- CSV Data set is a High Performance Liquid Chromatography (HPLC) pigment monthly analysis of chlorophyll-a concentration (mg/L) from rosette bottle samples at various depths from the E.U. Copernicus Marine Service Information data base, 2020-2021, 47N-342W.\n",
    "- API data set is the monthly Sea Surface Temperature (°C) on coordinates 47N-342W, 2020-2021, sourced at E.U. Copernicus Marine Service Information data base."
   ]
  },
  {
   "cell_type": "code",
   "execution_count": 18,
   "id": "ab325af4",
   "metadata": {},
   "outputs": [
    {
     "name": "stdout",
     "output_type": "stream",
     "text": [
      "[INFO] CONVERTING TO CSV\n",
      "[INFO] ------------------\n",
      "[INFO-CSV] Output file : sea_surface_water_temperature.csv\n",
      "[INFO-CSV] File format : Comma-Separated Values\n",
      "[INFO-CSV] Preview Stat:\n",
      "        depth  latitude  longitude         to\n",
      "count   13.0    13.000     13.000  13.000000\n",
      "mean     0.0    47.625    342.875  14.471076\n",
      "std      0.0     0.000      0.000   2.083826\n",
      "min      0.0    47.625    342.875  12.079000\n",
      "25%      0.0    47.625    342.875  12.598999\n",
      "50%      0.0    47.625    342.875  13.636999\n",
      "75%      0.0    47.625    342.875  16.584000\n",
      "max      0.0    47.625    342.875  17.802000\n",
      "[INFO] ------------------\n"
     ]
    },
    {
     "data": {
      "text/plain": [
       "True"
      ]
     },
     "execution_count": 18,
     "metadata": {},
     "output_type": "execute_result"
    }
   ],
   "source": [
    "\n",
    "__author__     = \"Copernicus Marine User Support Team\"\n",
    "__copyright__  = \"(C) 2021 E.U. Copernicus Marine Service Information\"\n",
    "__credits__    = [\"E.U. Copernicus Marine Service Information\"]\n",
    "__license__    = \"MIT License - You must cite this source\"\n",
    "__version__    = \"202104\"\n",
    "__maintainer__ = \"D. Bazin, E. DiMedio, C. Giordan\"\n",
    "__email__      = \"servicedesk dot cmems at mercator hyphen ocean dot eu\"\n",
    "\n",
    "\n",
    "def copernicus_marine_login(url, user, pwd):\n",
    "    \"\"\"\n",
    "    Open a connection to Copernicus Marine CAS with user credentials.\n",
    "\n",
    "    Parameters\n",
    "    ----------\n",
    "    username : str\n",
    "        Copernicus Marine Username, provided for free from https://marine.copernicus.eu .\n",
    "    password : str\n",
    "        Copernicus Marine Password, provided for free from https://marine.copernicus.eu .\n",
    "\n",
    "    Returns\n",
    "    -------\n",
    "    bool\n",
    "        Returns ``conn_session`` if credentials are correct, ``False`` otherwise.\n",
    "\n",
    "    \"\"\"\n",
    "    params = {'service': url}\n",
    "    cmems_cas_url = 'https://cmems-cas.cls.fr/cas/login'\n",
    "    conn_session = requests.session()\n",
    "    login_session = conn_session.get(cmems_cas_url, params=params)\n",
    "    login_from_html = lxml.html.fromstring(login_session.text)\n",
    "    hidden_elements_from_html = login_from_html.xpath(\n",
    "        '//form//input[@type=\"hidden\"]')\n",
    "    payload = {\n",
    "        he.attrib['name']: he.attrib['value']\n",
    "        for he in hidden_elements_from_html\n",
    "        }\n",
    "    payload['username'] = user\n",
    "    payload['password'] = pwd\n",
    "    conn_session.post(cmems_cas_url, data=payload, params=params)\n",
    "    return conn_session\n",
    "\n",
    "def get_data(url, output_filename, conn_session, csv=False):\n",
    "    if 'productdownload' in url:\n",
    "        url = f'{url}&mode=console'\n",
    "        if csv:\n",
    "            postprocess = True\n",
    "    else:\n",
    "        postprocess = False\n",
    "    req = conn_session.get(url, stream=True)\n",
    "    with open(output_filename,'wb') as of:\n",
    "        for chunk in req.iter_content(chunk_size=1000000):\n",
    "            of.write(chunk)\n",
    "    if postprocess:\n",
    "        try:\n",
    "            from cmemsapi import cmemsapi as cmust\n",
    "        except:\n",
    "            print('Please install cmust if you want to convert to .csv by issuing in your terminal:\\npip install cmemsapi')\n",
    "            raise SystemExit\n",
    "        cmust.to_csv(output_filename, output_filename)\n",
    "    return True\n",
    "\n",
    "\n",
    "conn_session = copernicus_marine_login('https://nrt.cmems-du.eu/motu-web/Motu?action=productdownload&service=MULTIOBS_GLO_PHY_TSUV_3D_MYNRT_015_012-TDS&product=dataset-armor-3d-rep-monthly&variable=sea_water_temperature&t_lo=2020-11-15+12:00:00&t_hi=2021-11-15+12:00:00&x_lo=-377.000&x_hi=-377.000&y_lo=47.566&y_hi=47.566', 'ahulse', 'Monty100')\n",
    "get_data('https://nrt.cmems-du.eu/motu-web/Motu?action=productdownload&service=MULTIOBS_GLO_PHY_TSUV_3D_MYNRT_015_012-TDS&product=dataset-armor-3d-rep-monthly&variable=sea_water_temperature&t_lo=2020-11-15+12:00:00&t_hi=2021-11-15+12:00:00&x_lo=-377.000&x_hi=-377.000&y_lo=47.566&y_hi=47.566', 'sea_surface_water_temperature.nc', conn_session, csv=True)\n"
   ]
  },
  {
   "attachments": {},
   "cell_type": "markdown",
   "id": "03b663e5",
   "metadata": {},
   "source": [
    "**Data Cleaning:**"
   ]
  },
  {
   "cell_type": "code",
   "execution_count": 19,
   "id": "45ce59ad",
   "metadata": {},
   "outputs": [
    {
     "data": {
      "text/html": [
       "<div>\n",
       "<style scoped>\n",
       "    .dataframe tbody tr th:only-of-type {\n",
       "        vertical-align: middle;\n",
       "    }\n",
       "\n",
       "    .dataframe tbody tr th {\n",
       "        vertical-align: top;\n",
       "    }\n",
       "\n",
       "    .dataframe thead th {\n",
       "        text-align: right;\n",
       "    }\n",
       "</style>\n",
       "<table border=\"1\" class=\"dataframe\">\n",
       "  <thead>\n",
       "    <tr style=\"text-align: right;\">\n",
       "      <th></th>\n",
       "      <th>Date</th>\n",
       "      <th>chl-a (μg/L)</th>\n",
       "    </tr>\n",
       "  </thead>\n",
       "  <tbody>\n",
       "    <tr>\n",
       "      <th>0</th>\n",
       "      <td>2020-11-15</td>\n",
       "      <td>0.25</td>\n",
       "    </tr>\n",
       "    <tr>\n",
       "      <th>1</th>\n",
       "      <td>2020-12-15</td>\n",
       "      <td>0.31</td>\n",
       "    </tr>\n",
       "    <tr>\n",
       "      <th>2</th>\n",
       "      <td>2021-01-15</td>\n",
       "      <td>0.34</td>\n",
       "    </tr>\n",
       "    <tr>\n",
       "      <th>3</th>\n",
       "      <td>2021-02-15</td>\n",
       "      <td>0.35</td>\n",
       "    </tr>\n",
       "    <tr>\n",
       "      <th>4</th>\n",
       "      <td>2021-03-15</td>\n",
       "      <td>0.55</td>\n",
       "    </tr>\n",
       "    <tr>\n",
       "      <th>5</th>\n",
       "      <td>2021-04-15</td>\n",
       "      <td>0.45</td>\n",
       "    </tr>\n",
       "    <tr>\n",
       "      <th>6</th>\n",
       "      <td>2021-05-15</td>\n",
       "      <td>0.36</td>\n",
       "    </tr>\n",
       "    <tr>\n",
       "      <th>7</th>\n",
       "      <td>2021-06-15</td>\n",
       "      <td>0.34</td>\n",
       "    </tr>\n",
       "    <tr>\n",
       "      <th>8</th>\n",
       "      <td>2021-07-15</td>\n",
       "      <td>0.28</td>\n",
       "    </tr>\n",
       "    <tr>\n",
       "      <th>9</th>\n",
       "      <td>2021-08-15</td>\n",
       "      <td>0.24</td>\n",
       "    </tr>\n",
       "    <tr>\n",
       "      <th>10</th>\n",
       "      <td>2021-09-15</td>\n",
       "      <td>0.11</td>\n",
       "    </tr>\n",
       "    <tr>\n",
       "      <th>11</th>\n",
       "      <td>2021-10-15</td>\n",
       "      <td>0.22</td>\n",
       "    </tr>\n",
       "    <tr>\n",
       "      <th>12</th>\n",
       "      <td>2021-11-15</td>\n",
       "      <td>0.22</td>\n",
       "    </tr>\n",
       "  </tbody>\n",
       "</table>\n",
       "</div>"
      ],
      "text/plain": [
       "          Date  chl-a (μg/L)\n",
       "0   2020-11-15          0.25\n",
       "1   2020-12-15          0.31\n",
       "2   2021-01-15          0.34\n",
       "3   2021-02-15          0.35\n",
       "4   2021-03-15          0.55\n",
       "5   2021-04-15          0.45\n",
       "6   2021-05-15          0.36\n",
       "7   2021-06-15          0.34\n",
       "8   2021-07-15          0.28\n",
       "9   2021-08-15          0.24\n",
       "10  2021-09-15          0.11\n",
       "11  2021-10-15          0.22\n",
       "12  2021-11-15          0.22"
      ]
     },
     "execution_count": 19,
     "metadata": {},
     "output_type": "execute_result"
    }
   ],
   "source": [
    "chl_data = pd.read_csv(\"chl-a conc.csv\")\n",
    "\n",
    "chl_data.drop(index=(range(13, 26)), inplace=True, errors='raise')\n",
    "chl_data.rename(columns={'time': 'Date', 'chl':'chl-a (μg/L)'}, inplace=True, errors='raise')\n",
    "\n",
    "chl_data['Date'] = chl_data['Date'].apply(lambda x : str(x))\n",
    "chl_data['Date'] = chl_data['Date'].apply(lambda x: x.split('T')[0])\n",
    "chl_data['Date'] = chl_data['Date'].replace(['2020-11-16', '2020-12-16', '2021-01-16', '2021-03-16', '2021-04-16', '2021-05-16', '2021-06-16', '2021-07-16', '2021-08-16', '2021-09-16', '2021-10-16', '2021-11-16'], ['2020-11-15', '2020-12-15', '2021-01-15', '2021-03-15', '2021-04-15', '2021-05-15', '2021-06-15', '2021-07-15', '2021-08-15', '2021-09-15', '2021-10-15', '2021-11-15'])\n",
    "chl_data.round({'chl-a (μg/L)': 2})"
   ]
  },
  {
   "cell_type": "code",
   "execution_count": 20,
   "id": "18b53d52",
   "metadata": {},
   "outputs": [
    {
     "data": {
      "text/html": [
       "<div>\n",
       "<style scoped>\n",
       "    .dataframe tbody tr th:only-of-type {\n",
       "        vertical-align: middle;\n",
       "    }\n",
       "\n",
       "    .dataframe tbody tr th {\n",
       "        vertical-align: top;\n",
       "    }\n",
       "\n",
       "    .dataframe thead th {\n",
       "        text-align: right;\n",
       "    }\n",
       "</style>\n",
       "<table border=\"1\" class=\"dataframe\">\n",
       "  <thead>\n",
       "    <tr style=\"text-align: right;\">\n",
       "      <th></th>\n",
       "      <th>Date</th>\n",
       "      <th>Temperature (°C)</th>\n",
       "    </tr>\n",
       "  </thead>\n",
       "  <tbody>\n",
       "    <tr>\n",
       "      <th>0</th>\n",
       "      <td>2020-11-15</td>\n",
       "      <td>13.6</td>\n",
       "    </tr>\n",
       "    <tr>\n",
       "      <th>1</th>\n",
       "      <td>2020-12-15</td>\n",
       "      <td>13.1</td>\n",
       "    </tr>\n",
       "    <tr>\n",
       "      <th>2</th>\n",
       "      <td>2021-01-15</td>\n",
       "      <td>12.5</td>\n",
       "    </tr>\n",
       "    <tr>\n",
       "      <th>3</th>\n",
       "      <td>2021-02-15</td>\n",
       "      <td>12.3</td>\n",
       "    </tr>\n",
       "    <tr>\n",
       "      <th>4</th>\n",
       "      <td>2021-03-15</td>\n",
       "      <td>12.1</td>\n",
       "    </tr>\n",
       "    <tr>\n",
       "      <th>5</th>\n",
       "      <td>2021-04-15</td>\n",
       "      <td>12.6</td>\n",
       "    </tr>\n",
       "    <tr>\n",
       "      <th>6</th>\n",
       "      <td>2021-05-15</td>\n",
       "      <td>13.4</td>\n",
       "    </tr>\n",
       "    <tr>\n",
       "      <th>7</th>\n",
       "      <td>2021-06-15</td>\n",
       "      <td>14.4</td>\n",
       "    </tr>\n",
       "    <tr>\n",
       "      <th>8</th>\n",
       "      <td>2021-07-15</td>\n",
       "      <td>16.6</td>\n",
       "    </tr>\n",
       "    <tr>\n",
       "      <th>9</th>\n",
       "      <td>2021-08-15</td>\n",
       "      <td>17.4</td>\n",
       "    </tr>\n",
       "    <tr>\n",
       "      <th>10</th>\n",
       "      <td>2021-09-15</td>\n",
       "      <td>17.8</td>\n",
       "    </tr>\n",
       "    <tr>\n",
       "      <th>11</th>\n",
       "      <td>2021-10-15</td>\n",
       "      <td>16.8</td>\n",
       "    </tr>\n",
       "    <tr>\n",
       "      <th>12</th>\n",
       "      <td>2021-11-15</td>\n",
       "      <td>15.4</td>\n",
       "    </tr>\n",
       "  </tbody>\n",
       "</table>\n",
       "</div>"
      ],
      "text/plain": [
       "          Date  Temperature (°C)\n",
       "0   2020-11-15              13.6\n",
       "1   2020-12-15              13.1\n",
       "2   2021-01-15              12.5\n",
       "3   2021-02-15              12.3\n",
       "4   2021-03-15              12.1\n",
       "5   2021-04-15              12.6\n",
       "6   2021-05-15              13.4\n",
       "7   2021-06-15              14.4\n",
       "8   2021-07-15              16.6\n",
       "9   2021-08-15              17.4\n",
       "10  2021-09-15              17.8\n",
       "11  2021-10-15              16.8\n",
       "12  2021-11-15              15.4"
      ]
     },
     "execution_count": 20,
     "metadata": {},
     "output_type": "execute_result"
    }
   ],
   "source": [
    "sst_data = pd.read_csv(\"sst.csv\")\n",
    "\n",
    "sst_data.drop(columns=['depth', 'latitude', 'longitude'], inplace=True, errors='raise')\n",
    "sst_data.rename(columns={'time': 'Date', 'to':'Temperature (°C)'}, inplace=True, errors='raise')\n",
    "sst_data\n",
    "\n",
    "sst_data['Date'] = sst_data['Date'].apply(lambda x : str(x))\n",
    "sst_data['Date'] = sst_data['Date'].apply(lambda x: x.split(' ')[0])\n",
    "sst_data.round({'Temperature (°C)': 1})"
   ]
  },
  {
   "attachments": {},
   "cell_type": "markdown",
   "id": "65eedbe8",
   "metadata": {},
   "source": [
    "**Data Manipulation:**"
   ]
  },
  {
   "cell_type": "code",
   "execution_count": 21,
   "id": "fe9f1771",
   "metadata": {},
   "outputs": [
    {
     "data": {
      "text/html": [
       "<div>\n",
       "<style scoped>\n",
       "    .dataframe tbody tr th:only-of-type {\n",
       "        vertical-align: middle;\n",
       "    }\n",
       "\n",
       "    .dataframe tbody tr th {\n",
       "        vertical-align: top;\n",
       "    }\n",
       "\n",
       "    .dataframe thead th {\n",
       "        text-align: right;\n",
       "    }\n",
       "</style>\n",
       "<table border=\"1\" class=\"dataframe\">\n",
       "  <thead>\n",
       "    <tr style=\"text-align: right;\">\n",
       "      <th></th>\n",
       "      <th>Date</th>\n",
       "      <th>chl-a (μg/L)</th>\n",
       "      <th>Temperature (°C)</th>\n",
       "    </tr>\n",
       "  </thead>\n",
       "  <tbody>\n",
       "    <tr>\n",
       "      <th>0</th>\n",
       "      <td>2020-11-15</td>\n",
       "      <td>0.25</td>\n",
       "      <td>13.6</td>\n",
       "    </tr>\n",
       "    <tr>\n",
       "      <th>1</th>\n",
       "      <td>2020-12-15</td>\n",
       "      <td>0.31</td>\n",
       "      <td>13.1</td>\n",
       "    </tr>\n",
       "    <tr>\n",
       "      <th>2</th>\n",
       "      <td>2021-01-15</td>\n",
       "      <td>0.34</td>\n",
       "      <td>12.5</td>\n",
       "    </tr>\n",
       "    <tr>\n",
       "      <th>3</th>\n",
       "      <td>2021-02-15</td>\n",
       "      <td>0.35</td>\n",
       "      <td>12.3</td>\n",
       "    </tr>\n",
       "    <tr>\n",
       "      <th>4</th>\n",
       "      <td>2021-03-15</td>\n",
       "      <td>0.55</td>\n",
       "      <td>12.1</td>\n",
       "    </tr>\n",
       "    <tr>\n",
       "      <th>5</th>\n",
       "      <td>2021-04-15</td>\n",
       "      <td>0.45</td>\n",
       "      <td>12.6</td>\n",
       "    </tr>\n",
       "    <tr>\n",
       "      <th>6</th>\n",
       "      <td>2021-05-15</td>\n",
       "      <td>0.36</td>\n",
       "      <td>13.4</td>\n",
       "    </tr>\n",
       "    <tr>\n",
       "      <th>7</th>\n",
       "      <td>2021-06-15</td>\n",
       "      <td>0.34</td>\n",
       "      <td>14.4</td>\n",
       "    </tr>\n",
       "    <tr>\n",
       "      <th>8</th>\n",
       "      <td>2021-07-15</td>\n",
       "      <td>0.28</td>\n",
       "      <td>16.6</td>\n",
       "    </tr>\n",
       "    <tr>\n",
       "      <th>9</th>\n",
       "      <td>2021-08-15</td>\n",
       "      <td>0.24</td>\n",
       "      <td>17.4</td>\n",
       "    </tr>\n",
       "    <tr>\n",
       "      <th>10</th>\n",
       "      <td>2021-09-15</td>\n",
       "      <td>0.11</td>\n",
       "      <td>17.8</td>\n",
       "    </tr>\n",
       "    <tr>\n",
       "      <th>11</th>\n",
       "      <td>2021-10-15</td>\n",
       "      <td>0.22</td>\n",
       "      <td>16.8</td>\n",
       "    </tr>\n",
       "    <tr>\n",
       "      <th>12</th>\n",
       "      <td>2021-11-15</td>\n",
       "      <td>0.22</td>\n",
       "      <td>15.4</td>\n",
       "    </tr>\n",
       "  </tbody>\n",
       "</table>\n",
       "</div>"
      ],
      "text/plain": [
       "          Date  chl-a (μg/L)  Temperature (°C)\n",
       "0   2020-11-15          0.25              13.6\n",
       "1   2020-12-15          0.31              13.1\n",
       "2   2021-01-15          0.34              12.5\n",
       "3   2021-02-15          0.35              12.3\n",
       "4   2021-03-15          0.55              12.1\n",
       "5   2021-04-15          0.45              12.6\n",
       "6   2021-05-15          0.36              13.4\n",
       "7   2021-06-15          0.34              14.4\n",
       "8   2021-07-15          0.28              16.6\n",
       "9   2021-08-15          0.24              17.4\n",
       "10  2021-09-15          0.11              17.8\n",
       "11  2021-10-15          0.22              16.8\n",
       "12  2021-11-15          0.22              15.4"
      ]
     },
     "execution_count": 21,
     "metadata": {},
     "output_type": "execute_result"
    }
   ],
   "source": [
    "data_merged = chl_data.merge(sst_data, on='Date', how='right')\n",
    "data_merged.round({'chl-a (μg/L)': 2, 'Temperature (°C)': 1})"
   ]
  },
  {
   "cell_type": "code",
   "execution_count": 12,
   "id": "03de6ef7",
   "metadata": {},
   "outputs": [],
   "source": [
    "#coefficient of correleation (R)\n"
   ]
  },
  {
   "cell_type": "code",
   "execution_count": null,
   "id": "ba746fed",
   "metadata": {},
   "outputs": [],
   "source": []
  },
  {
   "attachments": {},
   "cell_type": "markdown",
   "id": "2f5e89bc",
   "metadata": {},
   "source": [
    "**Data Visualisation:**"
   ]
  },
  {
   "cell_type": "code",
   "execution_count": 61,
   "id": "9e6725e7",
   "metadata": {},
   "outputs": [
    {
     "data": {
      "text/plain": [
       "([0, 1, 2, 3, 4, 5, 6, 7, 8, 9, 10, 11, 12],\n",
       " [Text(0, 0, '2020-November'),\n",
       "  Text(1, 0, 'December'),\n",
       "  Text(2, 0, '2021-January'),\n",
       "  Text(3, 0, 'Febuary'),\n",
       "  Text(4, 0, 'March'),\n",
       "  Text(5, 0, 'April'),\n",
       "  Text(6, 0, 'May'),\n",
       "  Text(7, 0, 'June'),\n",
       "  Text(8, 0, 'July'),\n",
       "  Text(9, 0, 'August'),\n",
       "  Text(10, 0, 'September'),\n",
       "  Text(11, 0, 'October'),\n",
       "  Text(12, 0, 'November')])"
      ]
     },
     "execution_count": 61,
     "metadata": {},
     "output_type": "execute_result"
    },
    {
     "data": {
      "image/png": "[encoded data removed]",
      "text/plain": [
       "<Figure size 432x288 with 1 Axes>"
      ]
     },
     "metadata": {
      "needs_background": "light"
     },
     "output_type": "display_data"
    }
   ],
   "source": [
    "#data for plot 1:\n",
    "sst_data['Date'] = sst_data['Date'].replace(['2020-11-15', '2020-12-15', '2021-01-15', '2021-02-15', '2021-03-15', '2021-04-15', '2021-05-15', '2021-06-15', '2021-07-15', '2021-08-15', '2021-09-15', '2021-10-15', '2021-11-15'], ['2020-November', 'December', '2021-January', 'Febuary', 'March', 'April', 'May', 'June', 'July', 'August', 'September', 'October', 'November'])\n",
    "\n",
    "sns.lineplot(data=sst_data, x=\"Date\", y=\"Temperature (°C)\", errorbar=None, estimator=sum); \n",
    "plt.ylabel(\"Temperature (°C)\", fontsize=15);\n",
    "plt.xlabel(\"Month\", fontsize=15);\n",
    "plt.title(\"Monthly Sea Surface Temperature (°C)\", fontsize = 20); \n",
    "plt.grid('on')\n",
    "plt.xticks(rotation=45)"
   ]
  },
  {
   "cell_type": "code",
   "execution_count": 54,
   "id": "8026a081",
   "metadata": {},
   "outputs": [
    {
     "data": {
      "text/plain": [
       "([0, 1, 2, 3, 4, 5, 6, 7, 8, 9, 10, 11, 12],\n",
       " [Text(0, 0, '2020-November'),\n",
       "  Text(1, 0, 'December'),\n",
       "  Text(2, 0, '2021-January'),\n",
       "  Text(3, 0, 'Febuary'),\n",
       "  Text(4, 0, 'March'),\n",
       "  Text(5, 0, 'April'),\n",
       "  Text(6, 0, 'May'),\n",
       "  Text(7, 0, 'June'),\n",
       "  Text(8, 0, 'July'),\n",
       "  Text(9, 0, 'August'),\n",
       "  Text(10, 0, 'September'),\n",
       "  Text(11, 0, 'October'),\n",
       "  Text(12, 0, 'November')])"
      ]
     },
     "execution_count": 54,
     "metadata": {},
     "output_type": "execute_result"
    },
    {
     "data": {
      "image/png": "[encoded data removed]",
      "text/plain": [
       "<Figure size 432x288 with 1 Axes>"
      ]
     },
     "metadata": {
      "needs_background": "light"
     },
     "output_type": "display_data"
    }
   ],
   "source": [
    "#data for plot 2:\n",
    "chl_data['Date'] = chl_data['Date'].replace(['2020-11-15', '2020-12-15', '2021-01-15', '2021-02-15', '2021-03-15', '2021-04-15', '2021-05-15', '2021-06-15', '2021-07-15', '2021-08-15', '2021-09-15', '2021-10-15', '2021-11-15'], ['2020-November', 'December', '2021-January', 'Febuary', 'March', 'April', 'May', 'June', 'July', 'August', 'September', 'October', 'November'])\n",
    "\n",
    "sns.lineplot(data=chl_data, x=\"Date\", y=\"chl-a (μg/L)\", errorbar=None, estimator=sum, color='lightgreen'); \n",
    "plt.ylabel(\"Chl-a (μg/L)\", fontsize=15); \n",
    "plt.xlabel(\"Month\", fontsize=15); \n",
    "plt.title(\"Monthly Chlorophyll-a Concentration (μg/L)\", fontsize = 20); \n",
    "plt.grid('on')\n",
    "plt.xticks(rotation=45)"
   ]
  },
  {
   "cell_type": "code",
   "execution_count": 75,
   "id": "101c468a",
   "metadata": {},
   "outputs": [
    {
     "data": {},
     "metadata": {},
     "output_type": "display_data"
    },
    {
     "data": {
      "application/vnd.holoviews_exec.v0+json": "",
      "text/html": [
       "<div id='5613'>\n",
       "  <div class=\"bk-root\" id=\"18dd229e-1ad1-470b-99b4-de2911b9f041\" data-root-id=\"5613\"></div>\n",
       "</div>\n",
       "<script type=\"application/javascript\">(function(root) {\n",
       "  function embed_document(root) {\n",
       "    var docs_json = {\"8d6a87f3-b7ed-4e9a-a7b8-1c852f2c63c5\":{\"defs\":[{\"extends\":null,\"module\":null,\"name\":\"ReactiveHTML1\",\"overrides\":[],\"properties\":[]},{\"extends\":null,\"module\":null,\"name\":\"FlexBox1\",\"overrides\":[],\"properties\":[{\"default\":\"flex-start\",\"kind\":null,\"name\":\"align_content\"},{\"default\":\"flex-start\",\"kind\":null,\"name\":\"align_items\"},{\"default\":\"row\",\"kind\":null,\"name\":\"flex_direction\"},{\"default\":\"wrap\",\"kind\":null,\"name\":\"flex_wrap\"},{\"default\":\"flex-start\",\"kind\":null,\"name\":\"justify_content\"}]},{\"extends\":null,\"module\":null,\"name\":\"GridStack1\",\"overrides\":[],\"properties\":[{\"default\":\"warn\",\"kind\":null,\"name\":\"mode\"},{\"default\":null,\"kind\":null,\"name\":\"ncols\"},{\"default\":null,\"kind\":null,\"name\":\"nrows\"},{\"default\":true,\"kind\":null,\"name\":\"allow_resize\"},{\"default\":true,\"kind\":null,\"name\":\"allow_drag\"},{\"default\":[],\"kind\":null,\"name\":\"state\"}]},{\"extends\":null,\"module\":null,\"name\":\"click1\",\"overrides\":[],\"properties\":[{\"default\":\"\",\"kind\":null,\"name\":\"terminal_output\"},{\"default\":\"\",\"kind\":null,\"name\":\"debug_name\"},{\"default\":0,\"kind\":null,\"name\":\"clears\"}]},{\"extends\":null,\"module\":null,\"name\":\"NotificationAreaBase1\",\"overrides\":[],\"properties\":[{\"default\":\"bottom-right\",\"kind\":null,\"name\":\"position\"},{\"default\":0,\"kind\":null,\"name\":\"_clear\"}]},{\"extends\":null,\"module\":null,\"name\":\"NotificationArea1\",\"overrides\":[],\"properties\":[{\"default\":[],\"kind\":null,\"name\":\"notifications\"},{\"default\":\"bottom-right\",\"kind\":null,\"name\":\"position\"},{\"default\":0,\"kind\":null,\"name\":\"_clear\"},{\"default\":[{\"background\":\"#ffc107\",\"icon\":{\"className\":\"fas fa-exclamation-triangle\",\"color\":\"white\",\"tagName\":\"i\"},\"type\":\"warning\"},{\"background\":\"#007bff\",\"icon\":{\"className\":\"fas fa-info-circle\",\"color\":\"white\",\"tagName\":\"i\"},\"type\":\"info\"}],\"kind\":null,\"name\":\"types\"}]},{\"extends\":null,\"module\":null,\"name\":\"Notification\",\"overrides\":[],\"properties\":[{\"default\":null,\"kind\":null,\"name\":\"background\"},{\"default\":3000,\"kind\":null,\"name\":\"duration\"},{\"default\":null,\"kind\":null,\"name\":\"icon\"},{\"default\":\"\",\"kind\":null,\"name\":\"message\"},{\"default\":null,\"kind\":null,\"name\":\"notification_type\"},{\"default\":false,\"kind\":null,\"name\":\"_destroyed\"}]},{\"extends\":null,\"module\":null,\"name\":\"TemplateActions1\",\"overrides\":[],\"properties\":[{\"default\":0,\"kind\":null,\"name\":\"open_modal\"},{\"default\":0,\"kind\":null,\"name\":\"close_modal\"}]},{\"extends\":null,\"module\":null,\"name\":\"MaterialTemplateActions1\",\"overrides\":[],\"properties\":[{\"default\":0,\"kind\":null,\"name\":\"open_modal\"},{\"default\":0,\"kind\":null,\"name\":\"close_modal\"}]}],\"roots\":{\"references\":[{\"attributes\":{\"data\":{\"Date\":[\"2020-November\",\"December\",\"2021-January\",\"Febuary\",\"March\",\"April\",\"May\",\"June\",\"July\",\"August\",\"September\",\"October\",\"November\"],\"chl-a (\\u03bcg/L)\":{\"__ndarray__\":\"GedvQiEC0D87H/neOprTPzxsIjMXuNU/0abRgThR1j+Rm+EGfL7hP5QHVMV1iNw/1Gn2o1Xr1j/GJxGfQ3LVP7vv1gEpFNI/3pqN+MIizj94qaZelvq8P8uZcUMhvMs/UFMuAbYLzD8=\",\"dtype\":\"float64\",\"order\":\"little\",\"shape\":[13]},\"chl_hyphen_minus_a_left_parenthesis_\\u03bcg_over_L_right_parenthesis\":{\"__ndarray__\":\"GedvQiEC0D87H/neOprTPzxsIjMXuNU/0abRgThR1j+Rm+EGfL7hP5QHVMV1iNw/1Gn2o1Xr1j/GJxGfQ3LVP7vv1gEpFNI/3pqN+MIizj94qaZelvq8P8uZcUMhvMs/UFMuAbYLzD8=\",\"dtype\":\"float64\",\"order\":\"little\",\"shape\":[13]}},\"selected\":{\"id\":\"5647\"},\"selection_policy\":{\"id\":\"5723\"}},\"id\":\"5646\",\"type\":\"ColumnDataSource\"},{\"attributes\":{},\"id\":\"5734\",\"type\":\"UnionRenderers\"},{\"attributes\":{},\"id\":\"5711\",\"type\":\"AllLabels\"},{\"attributes\":{},\"id\":\"5681\",\"type\":\"BasicTicker\"},{\"attributes\":{\"axis_label\":\"Temperature (\\u00b0C)\",\"coordinates\":null,\"formatter\":{\"id\":\"5710\"},\"group\":null,\"major_label_policy\":{\"id\":\"5711\"},\"ticker\":{\"id\":\"5681\"}},\"id\":\"5680\",\"type\":\"LinearAxis\"},{\"attributes\":{\"line_alpha\":0.1,\"line_color\":\"lightgreen\",\"line_width\":2,\"x\":{\"field\":\"Date\"},\"y\":{\"field\":\"chl-a (\\u03bcg/L)\"}},\"id\":\"5650\",\"type\":\"Line\"},{\"attributes\":{\"toolbar\":{\"id\":\"5739\"},\"toolbar_location\":\"above\"},\"id\":\"5740\",\"type\":\"ToolbarBox\"},{\"attributes\":{\"axis\":{\"id\":\"5680\"},\"coordinates\":null,\"dimension\":1,\"grid_line_color\":null,\"group\":null,\"ticker\":null},\"id\":\"5683\",\"type\":\"Grid\"},{\"attributes\":{\"line_alpha\":0.2,\"line_color\":\"#30a2da\",\"line_width\":2,\"x\":{\"field\":\"Date\"},\"y\":{\"field\":\"Temperature (\\u00b0C)\"}},\"id\":\"5702\",\"type\":\"Line\"},{\"attributes\":{\"coordinates\":null,\"data_source\":{\"id\":\"5646\"},\"glyph\":{\"id\":\"5649\"},\"group\":null,\"hover_glyph\":null,\"muted_glyph\":{\"id\":\"5651\"},\"nonselection_glyph\":{\"id\":\"5650\"},\"selection_glyph\":{\"id\":\"5654\"},\"view\":{\"id\":\"5653\"}},\"id\":\"5652\",\"type\":\"GlyphRenderer\"},{\"attributes\":{\"active_drag\":{\"id\":\"5685\"},\"active_scroll\":{\"id\":\"5686\"},\"tools\":[{\"id\":\"5667\"},{\"id\":\"5684\"},{\"id\":\"5685\"},{\"id\":\"5686\"},{\"id\":\"5687\"},{\"id\":\"5688\"}]},\"id\":\"5690\",\"type\":\"Toolbar\"},{\"attributes\":{\"line_color\":\"#30a2da\",\"line_width\":2,\"x\":{\"field\":\"Date\"},\"y\":{\"field\":\"Temperature (\\u00b0C)\"}},\"id\":\"5705\",\"type\":\"Line\"},{\"attributes\":{},\"id\":\"5660\",\"type\":\"AllLabels\"},{\"attributes\":{\"below\":[{\"id\":\"5626\"}],\"center\":[{\"id\":\"5628\"},{\"id\":\"5632\"}],\"height\":300,\"left\":[{\"id\":\"5629\"}],\"margin\":null,\"min_border_bottom\":10,\"min_border_left\":10,\"min_border_right\":10,\"min_border_top\":10,\"renderers\":[{\"id\":\"5652\"}],\"sizing_mode\":\"fixed\",\"title\":{\"id\":\"5618\"},\"toolbar\":{\"id\":\"5639\"},\"toolbar_location\":null,\"width\":575,\"x_range\":{\"id\":\"5614\"},\"x_scale\":{\"id\":\"5622\"},\"y_range\":{\"id\":\"5615\"},\"y_scale\":{\"id\":\"5624\"}},\"id\":\"5617\",\"subtype\":\"Figure\",\"type\":\"Plot\"},{\"attributes\":{},\"id\":\"5707\",\"type\":\"CategoricalTickFormatter\"},{\"attributes\":{\"factors\":[\"2020-November\",\"December\",\"2021-January\",\"Febuary\",\"March\",\"April\",\"May\",\"June\",\"July\",\"August\",\"September\",\"October\",\"November\"],\"tags\":[[[\"Date\",\"Date\",null]]]},\"id\":\"5614\",\"type\":\"FactorRange\"},{\"attributes\":{},\"id\":\"5656\",\"type\":\"CategoricalTickFormatter\"},{\"attributes\":{},\"id\":\"5698\",\"type\":\"Selection\"},{\"attributes\":{\"below\":[{\"id\":\"5677\"}],\"center\":[{\"id\":\"5679\"},{\"id\":\"5683\"}],\"height\":300,\"left\":[{\"id\":\"5680\"}],\"margin\":null,\"min_border_bottom\":10,\"min_border_left\":10,\"min_border_right\":10,\"min_border_top\":10,\"renderers\":[{\"id\":\"5703\"}],\"sizing_mode\":\"fixed\",\"title\":{\"id\":\"5669\"},\"toolbar\":{\"id\":\"5690\"},\"toolbar_location\":null,\"width\":575,\"x_range\":{\"id\":\"5614\"},\"x_scale\":{\"id\":\"5673\"},\"y_range\":{\"id\":\"5666\"},\"y_scale\":{\"id\":\"5675\"}},\"id\":\"5668\",\"subtype\":\"Figure\",\"type\":\"Plot\"},{\"attributes\":{},\"id\":\"5688\",\"type\":\"ResetTool\"},{\"attributes\":{\"end\":0.598632884,\"reset_end\":0.598632884,\"reset_start\":0.06906827600000001,\"start\":0.06906827600000001,\"tags\":[[[\"chl-a (\\u03bcg/L)\",\"chl-a (\\u03bcg/L)\",null]]]},\"id\":\"5615\",\"type\":\"Range1d\"},{\"attributes\":{\"bottom_units\":\"screen\",\"coordinates\":null,\"fill_alpha\":0.5,\"fill_color\":\"lightgrey\",\"group\":null,\"left_units\":\"screen\",\"level\":\"overlay\",\"line_alpha\":1.0,\"line_color\":\"black\",\"line_dash\":[4,4],\"line_width\":2,\"right_units\":\"screen\",\"syncable\":false,\"top_units\":\"screen\"},\"id\":\"5638\",\"type\":\"BoxAnnotation\"},{\"attributes\":{\"callback\":null,\"renderers\":[{\"id\":\"5652\"}],\"tags\":[\"hv_created\"],\"tooltips\":[[\"Date\",\"@{Date}\"],[\"chl-a (\\u03bcg/L)\",\"@{chl_hyphen_minus_a_left_parenthesis_\\u03bcg_over_L_right_parenthesis}\"]]},\"id\":\"5616\",\"type\":\"HoverTool\"},{\"attributes\":{\"source\":{\"id\":\"5697\"}},\"id\":\"5704\",\"type\":\"CDSView\"},{\"attributes\":{\"coordinates\":null,\"data_source\":{\"id\":\"5697\"},\"glyph\":{\"id\":\"5700\"},\"group\":null,\"hover_glyph\":null,\"muted_glyph\":{\"id\":\"5702\"},\"nonselection_glyph\":{\"id\":\"5701\"},\"selection_glyph\":{\"id\":\"5705\"},\"view\":{\"id\":\"5704\"}},\"id\":\"5703\",\"type\":\"GlyphRenderer\"},{\"attributes\":{\"children\":[[{\"id\":\"5617\"},0,0],[{\"id\":\"5668\"},0,1]]},\"id\":\"5738\",\"type\":\"GridBox\"},{\"attributes\":{},\"id\":\"5659\",\"type\":\"BasicTickFormatter\"},{\"attributes\":{\"line_alpha\":0.1,\"line_color\":\"#30a2da\",\"line_width\":2,\"x\":{\"field\":\"Date\"},\"y\":{\"field\":\"Temperature (\\u00b0C)\"}},\"id\":\"5701\",\"type\":\"Line\"},{\"attributes\":{\"children\":[{\"id\":\"5740\"},{\"id\":\"5738\"}]},\"id\":\"5741\",\"type\":\"Column\"},{\"attributes\":{\"data\":{\"Date\":[\"2020-November\",\"December\",\"2021-January\",\"Febuary\",\"March\",\"April\",\"May\",\"June\",\"July\",\"August\",\"September\",\"October\",\"November\"],\"Temperature (\\u00b0C)\":{\"__ndarray__\":\"XiuhuyRGK0Af9kIB2zkqQNO+ub96FClAPzVeukmMKED7zFmfcigoQGSsNv+vMilA3ZVdMLjeKkCHFtnO99MsQC/dJAaBlTBAVg4tsp1vMUBaZDvfT80xQMUgsHJo0TBA8KfGSzfJLkA=\",\"dtype\":\"float64\",\"order\":\"little\",\"shape\":[13]},\"Temperature_left_parenthesis_degree_C_right_parenthesis\":{\"__ndarray__\":\"XiuhuyRGK0Af9kIB2zkqQNO+ub96FClAPzVeukmMKED7zFmfcigoQGSsNv+vMilA3ZVdMLjeKkCHFtnO99MsQC/dJAaBlTBAVg4tsp1vMUBaZDvfT80xQMUgsHJo0TBA8KfGSzfJLkA=\",\"dtype\":\"float64\",\"order\":\"little\",\"shape\":[13]}},\"selected\":{\"id\":\"5698\"},\"selection_policy\":{\"id\":\"5734\"}},\"id\":\"5697\",\"type\":\"ColumnDataSource\"},{\"attributes\":{\"overlay\":{\"id\":\"5689\"}},\"id\":\"5687\",\"type\":\"BoxZoomTool\"},{\"attributes\":{\"line_color\":\"#30a2da\",\"line_width\":2,\"x\":{\"field\":\"Date\"},\"y\":{\"field\":\"Temperature (\\u00b0C)\"}},\"id\":\"5700\",\"type\":\"Line\"},{\"attributes\":{},\"id\":\"5684\",\"type\":\"SaveTool\"},{\"attributes\":{\"source\":{\"id\":\"5646\"}},\"id\":\"5653\",\"type\":\"CDSView\"},{\"attributes\":{\"line_color\":\"lightgreen\",\"line_width\":2,\"x\":{\"field\":\"Date\"},\"y\":{\"field\":\"chl-a (\\u03bcg/L)\"}},\"id\":\"5649\",\"type\":\"Line\"},{\"attributes\":{\"bottom_units\":\"screen\",\"coordinates\":null,\"fill_alpha\":0.5,\"fill_color\":\"lightgrey\",\"group\":null,\"left_units\":\"screen\",\"level\":\"overlay\",\"line_alpha\":1.0,\"line_color\":\"black\",\"line_dash\":[4,4],\"line_width\":2,\"right_units\":\"screen\",\"syncable\":false,\"top_units\":\"screen\"},\"id\":\"5689\",\"type\":\"BoxAnnotation\"},{\"attributes\":{\"callback\":null,\"renderers\":[{\"id\":\"5703\"}],\"tags\":[\"hv_created\"],\"tooltips\":[[\"Date\",\"@{Date}\"],[\"Temperature (\\u00b0C)\",\"@{Temperature_left_parenthesis_degree_C_right_parenthesis}\"]]},\"id\":\"5667\",\"type\":\"HoverTool\"},{\"attributes\":{\"line_alpha\":0.2,\"line_color\":\"lightgreen\",\"line_width\":2,\"x\":{\"field\":\"Date\"},\"y\":{\"field\":\"chl-a (\\u03bcg/L)\"}},\"id\":\"5651\",\"type\":\"Line\"},{\"attributes\":{},\"id\":\"5675\",\"type\":\"LinearScale\"},{\"attributes\":{},\"id\":\"5647\",\"type\":\"Selection\"},{\"attributes\":{},\"id\":\"5627\",\"type\":\"CategoricalTicker\"},{\"attributes\":{\"active_drag\":{\"id\":\"5634\"},\"active_scroll\":{\"id\":\"5635\"},\"tools\":[{\"id\":\"5616\"},{\"id\":\"5633\"},{\"id\":\"5634\"},{\"id\":\"5635\"},{\"id\":\"5636\"},{\"id\":\"5637\"}]},\"id\":\"5639\",\"type\":\"Toolbar\"},{\"attributes\":{},\"id\":\"5678\",\"type\":\"CategoricalTicker\"},{\"attributes\":{\"axis\":{\"id\":\"5677\"},\"coordinates\":null,\"grid_line_color\":null,\"group\":null,\"ticker\":null},\"id\":\"5679\",\"type\":\"Grid\"},{\"attributes\":{},\"id\":\"5657\",\"type\":\"AllLabels\"},{\"attributes\":{\"axis_label\":\"Date\",\"coordinates\":null,\"formatter\":{\"id\":\"5656\"},\"group\":null,\"major_label_orientation\":0.7853981633974483,\"major_label_policy\":{\"id\":\"5657\"},\"ticker\":{\"id\":\"5627\"}},\"id\":\"5626\",\"type\":\"CategoricalAxis\"},{\"attributes\":{},\"id\":\"5710\",\"type\":\"BasicTickFormatter\"},{\"attributes\":{},\"id\":\"5637\",\"type\":\"ResetTool\"},{\"attributes\":{},\"id\":\"5624\",\"type\":\"LinearScale\"},{\"attributes\":{\"overlay\":{\"id\":\"5638\"}},\"id\":\"5636\",\"type\":\"BoxZoomTool\"},{\"attributes\":{},\"id\":\"5633\",\"type\":\"SaveTool\"},{\"attributes\":{},\"id\":\"5622\",\"type\":\"CategoricalScale\"},{\"attributes\":{\"axis_label\":\"Date\",\"coordinates\":null,\"formatter\":{\"id\":\"5707\"},\"group\":null,\"major_label_orientation\":0.7853981633974483,\"major_label_policy\":{\"id\":\"5708\"},\"ticker\":{\"id\":\"5678\"}},\"id\":\"5677\",\"type\":\"CategoricalAxis\"},{\"attributes\":{\"line_color\":\"lightgreen\",\"line_width\":2,\"x\":{\"field\":\"Date\"},\"y\":{\"field\":\"chl-a (\\u03bcg/L)\"}},\"id\":\"5654\",\"type\":\"Line\"},{\"attributes\":{\"axis\":{\"id\":\"5626\"},\"coordinates\":null,\"grid_line_color\":null,\"group\":null,\"ticker\":null},\"id\":\"5628\",\"type\":\"Grid\"},{\"attributes\":{\"end\":18.37430005,\"reset_end\":18.37430005,\"reset_start\":11.50669945,\"start\":11.50669945,\"tags\":[[[\"Temperature (\\u00b0C)\",\"Temperature (\\u00b0C)\",null]]]},\"id\":\"5666\",\"type\":\"Range1d\"},{\"attributes\":{\"coordinates\":null,\"group\":null,\"text_color\":\"black\",\"text_font_size\":\"12pt\"},\"id\":\"5669\",\"type\":\"Title\"},{\"attributes\":{\"coordinates\":null,\"group\":null,\"text_color\":\"black\",\"text_font_size\":\"12pt\"},\"id\":\"5618\",\"type\":\"Title\"},{\"attributes\":{\"children\":[{\"id\":\"5741\"}],\"margin\":[0,0,0,0],\"name\":\"Row06647\",\"tags\":[\"embedded\"]},\"id\":\"5613\",\"type\":\"Row\"},{\"attributes\":{},\"id\":\"5686\",\"type\":\"WheelZoomTool\"},{\"attributes\":{},\"id\":\"5673\",\"type\":\"CategoricalScale\"},{\"attributes\":{},\"id\":\"5634\",\"type\":\"PanTool\"},{\"attributes\":{},\"id\":\"5630\",\"type\":\"BasicTicker\"},{\"attributes\":{\"axis_label\":\"chl-a (\\u03bcg/L)\",\"coordinates\":null,\"formatter\":{\"id\":\"5659\"},\"group\":null,\"major_label_policy\":{\"id\":\"5660\"},\"ticker\":{\"id\":\"5630\"}},\"id\":\"5629\",\"type\":\"LinearAxis\"},{\"attributes\":{},\"id\":\"5685\",\"type\":\"PanTool\"},{\"attributes\":{\"axis\":{\"id\":\"5629\"},\"coordinates\":null,\"dimension\":1,\"grid_line_color\":null,\"group\":null,\"ticker\":null},\"id\":\"5632\",\"type\":\"Grid\"},{\"attributes\":{\"toolbars\":[{\"id\":\"5639\"},{\"id\":\"5690\"}],\"tools\":[{\"id\":\"5616\"},{\"id\":\"5633\"},{\"id\":\"5634\"},{\"id\":\"5635\"},{\"id\":\"5636\"},{\"id\":\"5637\"},{\"id\":\"5667\"},{\"id\":\"5684\"},{\"id\":\"5685\"},{\"id\":\"5686\"},{\"id\":\"5687\"},{\"id\":\"5688\"}]},\"id\":\"5739\",\"type\":\"ProxyToolbar\"},{\"attributes\":{},\"id\":\"5723\",\"type\":\"UnionRenderers\"},{\"attributes\":{},\"id\":\"5708\",\"type\":\"AllLabels\"},{\"attributes\":{},\"id\":\"5635\",\"type\":\"WheelZoomTool\"}],\"root_ids\":[\"5613\"]},\"title\":\"Bokeh Application\",\"version\":\"2.4.3\"}};\n",
       "    var render_items = [{\"docid\":\"8d6a87f3-b7ed-4e9a-a7b8-1c852f2c63c5\",\"root_ids\":[\"5613\"],\"roots\":{\"5613\":\"18dd229e-1ad1-470b-99b4-de2911b9f041\"}}];\n",
       "    root.Bokeh.embed.embed_items_notebook(docs_json, render_items);\n",
       "    for (const render_item of render_items) {\n",
       "      for (const root_id of render_item.root_ids) {\n",
       "\tconst id_el = document.getElementById(root_id)\n",
       "\tif (id_el.children.length && (id_el.children[0].className === 'bk-root')) {\n",
       "\t  const root_el = id_el.children[0]\n",
       "\t  root_el.id = root_el.id + '-rendered'\n",
       "\t}\n",
       "      }\n",
       "    }\n",
       "  }\n",
       "  if (root.Bokeh !== undefined && root.Bokeh.Panel !== undefined) {\n",
       "    embed_document(root);\n",
       "  } else {\n",
       "    var attempts = 0;\n",
       "    var timer = setInterval(function(root) {\n",
       "      if (root.Bokeh !== undefined && root.Bokeh.Panel !== undefined) {\n",
       "        clearInterval(timer);\n",
       "        embed_document(root);\n",
       "      } else if (document.readyState == \"complete\") {\n",
       "        attempts++;\n",
       "        if (attempts > 200) {\n",
       "          clearInterval(timer);\n",
       "          console.log(\"Bokeh: ERROR: Unable to run BokehJS code because BokehJS library is missing\");\n",
       "        }\n",
       "      }\n",
       "    }, 25, root)\n",
       "  }\n",
       "})(window);</script>"
      ],
      "text/plain": [
       ":Layout\n",
       "   .Curve.I  :Curve   [Date]   (chl-a (μg/L))\n",
       "   .Curve.II :Curve   [Date]   (Temperature (°C))"
      ]
     },
     "execution_count": 75,
     "metadata": {
      "application/vnd.holoviews_exec.v0+json": {
       "id": "5613"
      }
     },
     "output_type": "execute_result"
    }
   ],
   "source": [
    "plot1 = chl_data.hvplot(x='Date', y='chl-a (μg/L)', width=575, color='lightgreen')\n",
    "plot2 = sst_data.hvplot(x='Date', y='Temperature (°C)', width=575)\n",
    "plot1.opts(xrotation=45)\n",
    "plot2.opts(xrotation=45)\n",
    "plot1 + plot2"
   ]
  },
  {
   "cell_type": "code",
   "execution_count": 185,
   "id": "086e8ddc",
   "metadata": {},
   "outputs": [
    {
     "data": {
      "image/png": "[encoded data removed]",
      "text/plain": [
       "<Figure size 432x288 with 2 Axes>"
      ]
     },
     "metadata": {
      "needs_background": "light"
     },
     "output_type": "display_data"
    }
   ],
   "source": [
    "fig, ax = plt.subplots()\n",
    "fig.subplots_adjust(right=2.8, left=0.8)\n",
    "\n",
    "twin1 = ax.twinx()\n",
    "\n",
    "p1, = ax.plot([0.25, 0.30, 0.33, 0.34, 0.55, 0.44, 0.35, 0.33, 0.28, 0.23, 0.11, 0.21, 0.21], \"green\", label=\"chl-a (μg/L)\")\n",
    "p2, = twin1.plot([13.6, 13.1, 12.5, 12.3, 12.1, 12.6, 13.4, 14.4, 16.6, 17.4, 17.8, 16.8, 15.4], \"blue\", label=\"Temperature (°C)\")\n",
    "\n",
    "ax.set_ylim(0.10, 0.60)\n",
    "twin1.set_ylim(10.0, 20.0)\n",
    "\n",
    "ax.set_xlabel(\"Date\", fontsize = 14)\n",
    "ax.set_ylabel(\"chl-a (μg/L)\", fontsize = 14)\n",
    "twin1.set_ylabel(\"Temperature (°C)\", fontsize = 14)\n",
    "\n",
    "ax.yaxis.label.set_color(p1.get_color())\n",
    "twin1.yaxis.label.set_color(p2.get_color())\n",
    "\n",
    "tkw = dict(size=4, width=1.5)\n",
    "ax.tick_params(axis='y', colors=p1.get_color(), **tkw)\n",
    "twin1.tick_params(axis='y', colors=p2.get_color(), **tkw)\n",
    "ax.tick_params(axis='x', **tkw)\n",
    "\n",
    "plt.title(\"Monthly Sea Surface Temperature (°C) and Chlorophyll-a Concentration (μg/L)\", fontsize = 20); \n",
    "\n",
    "ax.legend(handles=[p1, p2])\n",
    "plt.show()"
   ]
  }
 ],
 "metadata": {
  "kernelspec": {
   "display_name": "ironhack",
   "language": "python",
   "name": "python3"
  },
  "language_info": {
   "codemirror_mode": {
    "name": "ipython",
    "version": 3
   },
   "file_extension": ".py",
   "mimetype": "text/x-python",
   "name": "python",
   "nbconvert_exporter": "python",
   "pygments_lexer": "ipython3",
   "version": "3.9.12"
  },
  "toc": {
   "base_numbering": 1,
   "nav_menu": {},
   "number_sections": true,
   "sideBar": true,
   "skip_h1_title": true,
   "title_cell": "Table of Contents",
   "title_sidebar": "Contents",
   "toc_cell": false,
   "toc_position": {
    "height": "calc(100% - 180px)",
    "left": "10px",
    "top": "150px",
    "width": "288px"
   },
   "toc_section_display": true,
   "toc_window_display": true
  },
  "vscode": {
   "interpreter": {
    "hash": "82abc7b490bdca0a0926c123976b296da33c0333d87d0021eb92d39b0b4d3cac"
   }
  }
 },
 "nbformat": 4,
 "nbformat_minor": 5
}
